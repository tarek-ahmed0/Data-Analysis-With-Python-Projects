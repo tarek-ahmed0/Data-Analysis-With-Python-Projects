{
 "cells": [
  {
   "cell_type": "markdown",
   "id": "9d2409ba",
   "metadata": {},
   "source": [
    "# Covid-19 \n",
    "# - - - - - - -"
   ]
  },
  {
   "cell_type": "markdown",
   "id": "275fe370",
   "metadata": {},
   "source": [
    "## Import Libraries"
   ]
  },
  {
   "cell_type": "code",
   "execution_count": null,
   "id": "19effb11",
   "metadata": {},
   "outputs": [],
   "source": [
    "import numpy as np\n",
    "import pandas as pd \n",
    "import matplotlib as mpl\n",
    "import matplotlib.pyplot as plt \n",
    "import seaborn as sns"
   ]
  },
  {
   "cell_type": "markdown",
   "id": "cdf8335a",
   "metadata": {},
   "source": [
    "## Data Ingestion"
   ]
  },
  {
   "cell_type": "code",
   "execution_count": null,
   "id": "291c482e",
   "metadata": {},
   "outputs": [],
   "source": [
    "data = pd.read_excel(r\"D:\\Data Analysis With Python\\Covid-19\\covid-19 Dataset.xlsx\")"
   ]
  },
  {
   "cell_type": "code",
   "execution_count": null,
   "id": "3d3423f2",
   "metadata": {},
   "outputs": [],
   "source": [
    "data"
   ]
  },
  {
   "cell_type": "markdown",
   "id": "23778120",
   "metadata": {},
   "source": [
    "## Overview "
   ]
  },
  {
   "cell_type": "code",
   "execution_count": null,
   "id": "adbf54e6",
   "metadata": {},
   "outputs": [],
   "source": [
    "data.info()"
   ]
  },
  {
   "cell_type": "code",
   "execution_count": null,
   "id": "a2dbecbf",
   "metadata": {},
   "outputs": [],
   "source": [
    "data.describe()"
   ]
  },
  {
   "cell_type": "code",
   "execution_count": null,
   "id": "fa2c23f2",
   "metadata": {},
   "outputs": [],
   "source": [
    "data.isnull().sum()"
   ]
  },
  {
   "cell_type": "markdown",
   "id": "63d12efa",
   "metadata": {},
   "source": [
    "## Details"
   ]
  },
  {
   "cell_type": "markdown",
   "id": "930f17d5",
   "metadata": {},
   "source": [
    "### - Cases\n",
    "#### The Highest = Country : Iraq  |  Cases : 2,329,313\n",
    "#### The Lowest = Country : Union Of Comoros  |  Cases : 8,100\n",
    "#### Average = 596,605.27"
   ]
  },
  {
   "cell_type": "code",
   "execution_count": null,
   "id": "5b7b7f55",
   "metadata": {},
   "outputs": [],
   "source": [
    "data[data[\"Total Cases\"] == data[\"Total Cases\"].max()]"
   ]
  },
  {
   "cell_type": "code",
   "execution_count": null,
   "id": "8db7eefa",
   "metadata": {},
   "outputs": [],
   "source": [
    "data[data[\"Total Cases\"] == data[\"Total Cases\"].min()]"
   ]
  },
  {
   "cell_type": "code",
   "execution_count": null,
   "id": "76bb9366",
   "metadata": {},
   "outputs": [],
   "source": [
    "round(data[\"Total Cases\"].mean(), 2)"
   ]
  },
  {
   "cell_type": "markdown",
   "id": "5eb5f483",
   "metadata": {},
   "source": [
    "### - Death\n",
    "#### The Highest = Country : Tunisia  |  Death : 28,648\n",
    "#### The Lowest = Country : Union Of Comoros  |  Death : 160\t\n",
    "#### Average = 7,777.77"
   ]
  },
  {
   "cell_type": "code",
   "execution_count": null,
   "id": "9f9c8d21",
   "metadata": {},
   "outputs": [],
   "source": [
    "data[data[\"Total Death\"] == data[\"Total Death\"].max()]"
   ]
  },
  {
   "cell_type": "code",
   "execution_count": null,
   "id": "761447fc",
   "metadata": {},
   "outputs": [],
   "source": [
    "data[data[\"Total Death\"] == data[\"Total Death\"].min()]"
   ]
  },
  {
   "cell_type": "code",
   "execution_count": null,
   "id": "23c2b804",
   "metadata": {},
   "outputs": [],
   "source": [
    "round(data[\"Total Death\"].mean(), 2)"
   ]
  },
  {
   "cell_type": "markdown",
   "id": "598ad95f",
   "metadata": {},
   "source": [
    "### - Tests\n",
    "#### The Highest  = Country : Emirates  |  Tests : 913,984\n",
    "#### The Lowest = Country : Union Of Comoros  |  Tests : 113,212\t\n",
    "#### Average = 14,661,082.05"
   ]
  },
  {
   "cell_type": "code",
   "execution_count": null,
   "id": "396b1f2d",
   "metadata": {},
   "outputs": [],
   "source": [
    "data[data[\"Total Tests\"] == data[\"Total Tests\"].max()]"
   ]
  },
  {
   "cell_type": "code",
   "execution_count": null,
   "id": "946c1eeb",
   "metadata": {},
   "outputs": [],
   "source": [
    "data[data[\"Total Tests\"] == data[\"Total Tests\"].min()]"
   ]
  },
  {
   "cell_type": "code",
   "execution_count": null,
   "id": "1c91e455",
   "metadata": {},
   "outputs": [],
   "source": [
    "round(data[\"Total Tests\"].mean(), 2)"
   ]
  },
  {
   "cell_type": "markdown",
   "id": "93631226",
   "metadata": {},
   "source": [
    "### - Recovered\n",
    "#### The Highest = Country : Iraq  |  Recovered : 2,302,855\n",
    "#### The Lowest = Country : Union Of Comoros  |  Recovered : 7,933\t\n",
    "#### The Average = 555,742.68"
   ]
  },
  {
   "cell_type": "code",
   "execution_count": null,
   "id": "7448923e",
   "metadata": {},
   "outputs": [],
   "source": [
    "data[data[\"Total Recovered\"] == data[\"Total Recovered\"].max()]"
   ]
  },
  {
   "cell_type": "code",
   "execution_count": null,
   "id": "98ecec26",
   "metadata": {},
   "outputs": [],
   "source": [
    "data[data[\"Total Recovered\"] == data[\"Total Recovered\"].min()]"
   ]
  },
  {
   "cell_type": "code",
   "execution_count": null,
   "id": "26c6b2ee",
   "metadata": {},
   "outputs": [],
   "source": [
    "round(data[\"Total Recovered\"].mean(), 2)"
   ]
  },
  {
   "cell_type": "markdown",
   "id": "966a7d34",
   "metadata": {},
   "source": [
    "## Calc Percentage Of Death & Recovered At ( Hos & Home )"
   ]
  },
  {
   "cell_type": "code",
   "execution_count": null,
   "id": "e155870f",
   "metadata": {},
   "outputs": [],
   "source": [
    "death = [death for death in data[\"Total Death\"]]\n",
    "death_at_home = [death_at_home for death_at_home in data[\"Death At Homes\"]]\n",
    "death_at_hos = [death_at_hos for death_at_hos in data[\"Death At Hospitals\"]]"
   ]
  },
  {
   "cell_type": "code",
   "execution_count": null,
   "id": "ebcc7941",
   "metadata": {},
   "outputs": [],
   "source": [
    "death_hos_per = [ round((n1/n2)*100) for n1, n2 in zip(death_at_hos, death)]\n",
    "death_home_per = [ round((n1/n2)*100) for n1, n2 in zip(death_at_home, death)] "
   ]
  },
  {
   "cell_type": "code",
   "execution_count": null,
   "id": "a3cf8a8c",
   "metadata": {},
   "outputs": [],
   "source": [
    "rec = [rec for rec in data[\"Total Recovered\"]]\n",
    "rec_at_home = [rec_at_home for rec_at_home in data[\"Rec Home\"]]\n",
    "rec_at_hos = [rec_at_hos for rec_at_hos in data[\"Rec Hos\"]]"
   ]
  },
  {
   "cell_type": "code",
   "execution_count": null,
   "id": "93f60a16",
   "metadata": {},
   "outputs": [],
   "source": [
    "rec_hos_per = [ round((n1/n2)*100) for n1, n2 in zip(rec_at_hos, rec)]\n",
    "rec_home_per = [ round((n1/n2)*100) for n1, n2 in zip(rec_at_home, rec)] "
   ]
  },
  {
   "cell_type": "code",
   "execution_count": null,
   "id": "cb739028",
   "metadata": {},
   "outputs": [],
   "source": [
    "data.insert(11, column = \"Per of Rec At Hos\", value = rec_hos_per)\n",
    "data.insert(12, column = \"Per of Rec At Home\", value = rec_at_home)\n",
    "data.insert(13, column = \"Per of Death At Hos\", value = death_at_hos)\n",
    "data.insert(14, column = \"Per of Death At Home\", value = death_at_home)"
   ]
  },
  {
   "cell_type": "code",
   "execution_count": null,
   "id": "e0528021",
   "metadata": {},
   "outputs": [],
   "source": [
    "data"
   ]
  },
  {
   "cell_type": "markdown",
   "id": "ed9fc361",
   "metadata": {},
   "source": [
    "## Data Visualization"
   ]
  },
  {
   "cell_type": "markdown",
   "id": "3f263b8a",
   "metadata": {},
   "source": [
    "### Comparison Between The Average Of Death At Hospitals And Homes"
   ]
  },
  {
   "cell_type": "code",
   "execution_count": null,
   "id": "6b8e8d1f",
   "metadata": {},
   "outputs": [],
   "source": [
    "average_death_hos = data[\"Death At Hospitals\"].mean()"
   ]
  },
  {
   "cell_type": "code",
   "execution_count": null,
   "id": "e54efbcf",
   "metadata": {},
   "outputs": [],
   "source": [
    "average_death_home = data[\"Death At Homes\"].mean()"
   ]
  },
  {
   "cell_type": "code",
   "execution_count": null,
   "id": "a1e69772",
   "metadata": {},
   "outputs": [],
   "source": [
    "plt.style.use(\"ggplot\")\n",
    "x = np.arange(1)\n",
    "plt.bar(x - 0.2, average_death_hos,0.4, label = \"Hospitals\", color = \"purple\")\n",
    "plt.bar(x + 0.2, average_death_home,0.4, label = \"Homes\", color = \"#000033\")\n",
    "axis = plt.gca()\n",
    "axis.get_xaxis().set_visible(False)\n",
    "axis.get_yaxis().set_visible(False)\n",
    "plt.legend()\n",
    "plt.title(\"Average Of Death\")\n",
    "plt.show()"
   ]
  },
  {
   "cell_type": "code",
   "execution_count": null,
   "id": "2e1273e1",
   "metadata": {},
   "outputs": [],
   "source": [
    "plt.style.use(\"ggplot\")\n",
    "labels = [\"Hospitals\", \"Homes\"]\n",
    "colors = [\"purple\", \"#000033\"]\n",
    "death_data = [average_death_hos, average_death_home]\n",
    "plt.pie(death_data, colors = colors, explode = [0.01, 0.01], labels = labels)\n",
    "plt.title(\"Average Of Death\")\n",
    "plt.show()"
   ]
  },
  {
   "cell_type": "markdown",
   "id": "3ff6dcba",
   "metadata": {},
   "source": [
    "### Comparison Between The Average Of Recovered At Hospitals And Homes"
   ]
  },
  {
   "cell_type": "code",
   "execution_count": null,
   "id": "d3a7e428",
   "metadata": {},
   "outputs": [],
   "source": [
    "average_recovered_hos = data[\"Rec Hos\"].mean()"
   ]
  },
  {
   "cell_type": "code",
   "execution_count": null,
   "id": "2a493534",
   "metadata": {},
   "outputs": [],
   "source": [
    "average_recovered_home = data[\"Rec Home\"].mean()"
   ]
  },
  {
   "cell_type": "code",
   "execution_count": null,
   "id": "05a000a4",
   "metadata": {},
   "outputs": [],
   "source": [
    "plt.style.use(\"ggplot\")\n",
    "x = np.arange(1)\n",
    "plt.bar(x - 0.2, average_recovered_hos,0.4, label = \"Hospitals\", color = \"#914955\")\n",
    "plt.bar(x + 0.2, average_recovered_home,0.4, label = \"Homes\", color = \"#ADB3BC\")\n",
    "axis = plt.gca()\n",
    "axis.get_xaxis().set_visible(False)\n",
    "axis.get_yaxis().set_visible(False)\n",
    "plt.legend()\n",
    "plt.title(\"Average Of Recovered\")\n",
    "plt.show()"
   ]
  },
  {
   "cell_type": "code",
   "execution_count": null,
   "id": "c03b3a84",
   "metadata": {},
   "outputs": [],
   "source": [
    "plt.style.use(\"ggplot\")\n",
    "labels = [\"Hospitals\", \"Homes\"]\n",
    "colors = [\"#914955\", \"#ADB3BC\"]\n",
    "death_data = [average_recovered_hos, average_recovered_home]\n",
    "plt.pie(death_data, colors = colors, explode = [0.01, 0.01], labels = labels)\n",
    "plt.title(\"Average Of Recovered\")\n",
    "plt.show()"
   ]
  },
  {
   "cell_type": "markdown",
   "id": "9092d185",
   "metadata": {},
   "source": [
    "## Conclude The Relationship Between Cases And Population"
   ]
  },
  {
   "cell_type": "code",
   "execution_count": null,
   "id": "253731b2",
   "metadata": {},
   "outputs": [],
   "source": [
    "plt.style.use(\"seaborn-darkgrid\")\n",
    "sns.scatterplot(data = data, x = data[\"Total Cases\"], y = data[\"Population\"])\n",
    "plt.show()"
   ]
  },
  {
   "cell_type": "markdown",
   "id": "65aba068",
   "metadata": {},
   "source": [
    "## Conclude The Relationship Between Cases And Area"
   ]
  },
  {
   "cell_type": "code",
   "execution_count": null,
   "id": "e8e559b6",
   "metadata": {},
   "outputs": [],
   "source": [
    "plt.style.use(\"seaborn-darkgrid\")\n",
    "sns.scatterplot(data = data, x = data[\"Total Cases\"], y = data[\"Area\"])\n",
    "plt.show()"
   ]
  },
  {
   "cell_type": "markdown",
   "id": "14985b8a",
   "metadata": {},
   "source": [
    "## Concludes The Relationship Between Cases And Death"
   ]
  },
  {
   "cell_type": "code",
   "execution_count": null,
   "id": "3d40a99f",
   "metadata": {},
   "outputs": [],
   "source": [
    "plt.style.use(\"seaborn-darkgrid\")\n",
    "sns.scatterplot(data = data, x = data[\"Total Cases\"], y = data[\"Total Death\"])\n",
    "plt.show()"
   ]
  },
  {
   "cell_type": "markdown",
   "id": "eb0c0257",
   "metadata": {},
   "source": [
    "## Concludes The Relationship Between Cases And Recovered"
   ]
  },
  {
   "cell_type": "code",
   "execution_count": null,
   "id": "6bb6e2b5",
   "metadata": {},
   "outputs": [],
   "source": [
    "plt.style.use(\"seaborn-darkgrid\")\n",
    "sns.scatterplot(data = data, x = data[\"Total Cases\"], y = data[\"Total Recovered\"])\n",
    "plt.show()"
   ]
  },
  {
   "cell_type": "markdown",
   "id": "b60110aa",
   "metadata": {},
   "source": [
    "## Thank You\n"
   ]
  },
  {
   "cell_type": "markdown",
   "id": "dc3516a7",
   "metadata": {},
   "source": []
  }
 ],
 "metadata": {
  "kernelspec": {
   "display_name": "Python 3 (ipykernel)",
   "language": "python",
   "name": "python3"
  },
  "language_info": {
   "codemirror_mode": {
    "name": "ipython",
    "version": 3
   },
   "file_extension": ".py",
   "mimetype": "text/x-python",
   "name": "python",
   "nbconvert_exporter": "python",
   "pygments_lexer": "ipython3",
   "version": "3.9.7"
  }
 },
 "nbformat": 4,
 "nbformat_minor": 5
}
